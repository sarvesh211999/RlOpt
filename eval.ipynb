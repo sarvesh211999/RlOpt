{
 "cells": [
  {
   "cell_type": "code",
   "execution_count": 1,
   "metadata": {},
   "outputs": [
    {
     "name": "stderr",
     "output_type": "stream",
     "text": [
      "RDKit WARNING: [20:52:27] Enabling RDKit 2019.09.3 jupyter extensions\n"
     ]
    }
   ],
   "source": [
    "import gym, ray\n",
    "from gym import spaces\n",
    "import numpy as np\n",
    "from scipy.spatial import distance\n",
    "# import pdb\n",
    "import MultiAgentEnv as ma_env\n",
    "\n",
    "from policy import PolicyNetwork\n",
    "from ray.rllib.utils.annotations import override\n",
    "from ray.rllib.models import ModelCatalog\n",
    "from ray.tune.registry import register_env\n",
    "from ray import tune\n",
    "import ray.rllib.agents.ppo as ppo\n",
    "import os\n",
    "from ray.tune.logger import pretty_print\n",
    "from ray.tune.logger import Logger\n",
    "\n",
    "\n",
    "from typing import Dict\n",
    "from ray import tune\n",
    "from ray.rllib.agents.callbacks import DefaultCallbacks\n",
    "from ray.rllib.env import BaseEnv\n",
    "from ray.rllib.evaluation import MultiAgentEpisode, RolloutWorker\n",
    "from ray.rllib.policy import Policy\n",
    "from ray.rllib.policy.sample_batch import SampleBatch\n",
    "\n",
    "from datetime import datetime"
   ]
  },
  {
   "cell_type": "code",
   "execution_count": 15,
   "metadata": {},
   "outputs": [],
   "source": [
    "model_C = PolicyNetwork\n",
    "model_H = PolicyNetwork\n",
    "ModelCatalog.register_custom_model(\"modelC\", model_C)\n",
    "ModelCatalog.register_custom_model(\"modelH\", model_H)\n",
    "\n",
    "act_space = spaces.Box(low=-0.1,high=0.1, shape=(3,))\n",
    "obs_space = spaces.Box(low=-10000,high=10000, shape=(768,))\n",
    "\n",
    "def gen_policy(atom):\n",
    "    model = \"model{}\".format(atom)\n",
    "    config = {\n",
    "        \"model\": {\n",
    "            \"custom_model\": model,\n",
    "        },\n",
    "    }\n",
    "    return (None, obs_space, act_space, config)\n",
    "\n",
    "\n",
    "\n",
    "policies = {\"policy_C\": gen_policy(\"C\"),\"policy_H\": gen_policy(\"H\")}\n",
    "policy_ids = list(policies.keys())\n",
    "\n",
    "def policy_mapping_fn(agent_id,  **kwargs):\n",
    "    if agent_id.startswith(\"C\"):\n",
    "        pol_id = \"policy_C\"\n",
    "    else:\n",
    "        pol_id = \"policy_H\"\n",
    "    return pol_id\n",
    "\n",
    "def env_creator(env_config):\n",
    "    return ma_env.MA_env(env_config)  # return an env instance\n",
    "\n",
    "register_env(\"MA_env\", env_creator)\n",
    "\n",
    "config = ppo.DEFAULT_CONFIG.copy()\n",
    "\n",
    "config[\"multiagent\"] = {\n",
    "        \"policy_mapping_fn\": policy_mapping_fn,\n",
    "        \"policies\": policies,\n",
    "        \"policies_to_train\": [\"policy_C\", \"policy_H\"],\n",
    "    }\n",
    "\n",
    "config[\"log_level\"] = \"WARN\"\n",
    "config[\"framework\"] = \"torch\"\n",
    "config[\"num_gpus\"] =  int(os.environ.get(\"RLLIB_NUM_GPUS\", \"0\"))\n",
    "config[\"env_config\"] =  {\"atoms\":[\"C\", \"H\", \"H\", \"H\", \"H\"]}\n",
    "config[\"rollout_fragment_length\"] = 16"
   ]
  },
  {
   "cell_type": "code",
   "execution_count": 5,
   "metadata": {},
   "outputs": [
    {
     "name": "stderr",
     "output_type": "stream",
     "text": [
      "2021-08-04 20:53:39,421\tINFO services.py:1330 -- View the Ray dashboard at \u001b[1m\u001b[32mhttp://127.0.0.1:8265\u001b[39m\u001b[22m\n"
     ]
    },
    {
     "data": {
      "text/plain": [
       "{'node_ip_address': '172.16.0.114',\n",
       " 'raylet_ip_address': '172.16.0.114',\n",
       " 'redis_address': '172.16.0.114:6379',\n",
       " 'object_store_address': '/tmp/ray/session_2021-08-04_20-53-36_742007_12874/sockets/plasma_store',\n",
       " 'raylet_socket_name': '/tmp/ray/session_2021-08-04_20-53-36_742007_12874/sockets/raylet',\n",
       " 'webui_url': '127.0.0.1:8265',\n",
       " 'session_dir': '/tmp/ray/session_2021-08-04_20-53-36_742007_12874',\n",
       " 'metrics_export_port': 61087,\n",
       " 'node_id': '87116b37d9082c1f12b52c0185841d80d402e577b183cc54149c3396'}"
      ]
     },
     "execution_count": 5,
     "metadata": {},
     "output_type": "execute_result"
    }
   ],
   "source": [
    "ray.init()"
   ]
  },
  {
   "cell_type": "code",
   "execution_count": 16,
   "metadata": {},
   "outputs": [
    {
     "name": "stderr",
     "output_type": "stream",
     "text": [
      "2021-08-04 21:11:53,303\tWARNING util.py:55 -- Install gputil for GPU system monitoring.\n"
     ]
    }
   ],
   "source": [
    "agent = ppo.PPOTrainer(config=config, env=\"MA_env\")"
   ]
  },
  {
   "cell_type": "code",
   "execution_count": 17,
   "metadata": {},
   "outputs": [
    {
     "name": "stderr",
     "output_type": "stream",
     "text": [
      "2021-08-04 21:11:54,733\tINFO trainable.py:379 -- Restored on 172.16.0.114 from checkpoint: /home/sarvesh211999/ray_results/PPO_MA_env_2021-08-04_18-33-53ks1kndl_/checkpoint_000001/checkpoint-1\n",
      "2021-08-04 21:11:54,734\tINFO trainable.py:387 -- Current state after restoring: {'_iteration': 1, '_timesteps_total': None, '_time_total': 263.95628547668457, '_episodes_total': 15}\n"
     ]
    }
   ],
   "source": [
    "agent.restore(\"/home/sarvesh211999/ray_results/PPO_MA_env_2021-08-04_18-33-53ks1kndl_/checkpoint_000001/checkpoint-1\")"
   ]
  },
  {
   "cell_type": "code",
   "execution_count": 18,
   "metadata": {},
   "outputs": [],
   "source": [
    "env = ma_env.MA_env({})"
   ]
  },
  {
   "cell_type": "code",
   "execution_count": 19,
   "metadata": {},
   "outputs": [
    {
     "name": "stdout",
     "output_type": "stream",
     "text": [
      "Reset called\n",
      "forces = [4.691725675958892, -2.977502852185873, 4.385788820676909, -0.8213429966917942, -0.28131015568930023, -0.5851022919157759, -4.413608403535599, 2.0069012055883864, 1.1928383410509424, -2.3557062108455606, -1.2869259594802276, -4.341285085981355, 2.9049156820448228, 2.567220027594209, -0.6727541760726693] \t energies = -17.74350464157722\n"
     ]
    }
   ],
   "source": [
    "obs = env.reset()"
   ]
  },
  {
   "cell_type": "code",
   "execution_count": 20,
   "metadata": {},
   "outputs": [
    {
     "ename": "KeyError",
     "evalue": "'default_policy'",
     "output_type": "error",
     "traceback": [
      "\u001b[0;31m---------------------------------------------------------------------------\u001b[0m",
      "\u001b[0;31mKeyError\u001b[0m                                  Traceback (most recent call last)",
      "\u001b[0;32m<ipython-input-20-5e63e5f4856a>\u001b[0m in \u001b[0;36m<module>\u001b[0;34m\u001b[0m\n\u001b[0;32m----> 1\u001b[0;31m \u001b[0magent\u001b[0m\u001b[0;34m.\u001b[0m\u001b[0mcompute_action\u001b[0m\u001b[0;34m(\u001b[0m\u001b[0mobs\u001b[0m\u001b[0;34m,\u001b[0m\u001b[0mfull_fetch\u001b[0m\u001b[0;34m=\u001b[0m\u001b[0;32mTrue\u001b[0m\u001b[0;34m)\u001b[0m\u001b[0;34m\u001b[0m\u001b[0;34m\u001b[0m\u001b[0m\n\u001b[0m",
      "\u001b[0;32m~/anaconda3/lib/python3.8/site-packages/ray/rllib/agents/trainer.py\u001b[0m in \u001b[0;36mcompute_action\u001b[0;34m(self, observation, state, prev_action, prev_reward, info, policy_id, full_fetch, explore)\u001b[0m\n\u001b[1;32m    964\u001b[0m             \u001b[0mstate\u001b[0m \u001b[0;34m=\u001b[0m \u001b[0;34m[\u001b[0m\u001b[0;34m]\u001b[0m\u001b[0;34m\u001b[0m\u001b[0;34m\u001b[0m\u001b[0m\n\u001b[1;32m    965\u001b[0m         \u001b[0;31m# Check the preprocessor and preprocess, if necessary.\u001b[0m\u001b[0;34m\u001b[0m\u001b[0;34m\u001b[0m\u001b[0;34m\u001b[0m\u001b[0m\n\u001b[0;32m--> 966\u001b[0;31m         \u001b[0mpp\u001b[0m \u001b[0;34m=\u001b[0m \u001b[0mself\u001b[0m\u001b[0;34m.\u001b[0m\u001b[0mworkers\u001b[0m\u001b[0;34m.\u001b[0m\u001b[0mlocal_worker\u001b[0m\u001b[0;34m(\u001b[0m\u001b[0;34m)\u001b[0m\u001b[0;34m.\u001b[0m\u001b[0mpreprocessors\u001b[0m\u001b[0;34m[\u001b[0m\u001b[0mpolicy_id\u001b[0m\u001b[0;34m]\u001b[0m\u001b[0;34m\u001b[0m\u001b[0;34m\u001b[0m\u001b[0m\n\u001b[0m\u001b[1;32m    967\u001b[0m         \u001b[0;32mif\u001b[0m \u001b[0mtype\u001b[0m\u001b[0;34m(\u001b[0m\u001b[0mpp\u001b[0m\u001b[0;34m)\u001b[0m\u001b[0;34m.\u001b[0m\u001b[0m__name__\u001b[0m \u001b[0;34m!=\u001b[0m \u001b[0;34m\"NoPreprocessor\"\u001b[0m\u001b[0;34m:\u001b[0m\u001b[0;34m\u001b[0m\u001b[0;34m\u001b[0m\u001b[0m\n\u001b[1;32m    968\u001b[0m             \u001b[0mobservation\u001b[0m \u001b[0;34m=\u001b[0m \u001b[0mpp\u001b[0m\u001b[0;34m.\u001b[0m\u001b[0mtransform\u001b[0m\u001b[0;34m(\u001b[0m\u001b[0mobservation\u001b[0m\u001b[0;34m)\u001b[0m\u001b[0;34m\u001b[0m\u001b[0;34m\u001b[0m\u001b[0m\n",
      "\u001b[0;31mKeyError\u001b[0m: 'default_policy'"
     ]
    }
   ],
   "source": [
    "agent.compute_action(obs,full_fetch=True)"
   ]
  },
  {
   "cell_type": "code",
   "execution_count": 21,
   "metadata": {},
   "outputs": [],
   "source": [
    "action = {}\n",
    "for agent_id, agent_obs in obs.items():\n",
    "    policy_id = config['multiagent']['policy_mapping_fn'](agent_id)\n",
    "    action[agent_id] = agent.compute_action(agent_obs, policy_id=policy_id)"
   ]
  },
  {
   "cell_type": "code",
   "execution_count": 22,
   "metadata": {},
   "outputs": [
    {
     "data": {
      "text/plain": [
       "{'C_1': array([-0.1, -0.1,  0.1], dtype=float32),\n",
       " 'H_1': array([-0.1,  0.1,  0.1], dtype=float32),\n",
       " 'H_2': array([-0.1,  0.1,  0.1], dtype=float32),\n",
       " 'H_3': array([-0.1, -0.1,  0.1], dtype=float32),\n",
       " 'H_4': array([0.1, 0.1, 0.1], dtype=float32)}"
      ]
     },
     "execution_count": 22,
     "metadata": {},
     "output_type": "execute_result"
    }
   ],
   "source": [
    "action"
   ]
  },
  {
   "cell_type": "code",
   "execution_count": null,
   "metadata": {},
   "outputs": [],
   "source": []
  }
 ],
 "metadata": {
  "kernelspec": {
   "display_name": "Python 3",
   "language": "python",
   "name": "python3"
  },
  "language_info": {
   "codemirror_mode": {
    "name": "ipython",
    "version": 3
   },
   "file_extension": ".py",
   "mimetype": "text/x-python",
   "name": "python",
   "nbconvert_exporter": "python",
   "pygments_lexer": "ipython3",
   "version": "3.8.2"
  }
 },
 "nbformat": 4,
 "nbformat_minor": 4
}
