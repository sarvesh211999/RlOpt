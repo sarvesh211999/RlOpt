{
 "cells": [
  {
   "cell_type": "code",
   "execution_count": 1,
   "metadata": {},
   "outputs": [
    {
     "name": "stderr",
     "output_type": "stream",
     "text": [
      "/home/rohit/anaconda3/envs/rlopt/lib/python3.9/site-packages/ray/autoscaler/_private/cli_logger.py:59: FutureWarning: Not all Ray CLI dependencies were found. In Ray 1.4+, the Ray CLI, autoscaler, and dashboard will only be usable via `pip install 'ray[default]'`. Please update your install command.\n",
      "  warnings.warn(\n"
     ]
    }
   ],
   "source": [
    "import gym, ray\n",
    "from gym import spaces\n",
    "import numpy as np\n",
    "from scipy.spatial import distance\n",
    "# import pdb\n",
    "import MultiAgentEnv as ma_env\n",
    "\n",
    "from policy import PolicyNetwork\n",
    "from ray.rllib.utils.annotations import override\n",
    "from ray.rllib.models import ModelCatalog\n",
    "from ray.tune.registry import register_env\n",
    "from ray import tune\n",
    "import ray.rllib.agents.ppo as ppo\n",
    "import os, pdb\n",
    "from ray.tune.logger import pretty_print\n",
    "from ray.tune.logger import Logger\n",
    "\n",
    "from typing import Dict\n",
    "from ray import tune\n",
    "from ray.rllib.agents.callbacks import DefaultCallbacks\n",
    "from ray.rllib.env import BaseEnv\n",
    "from ray.rllib.evaluation import MultiAgentEpisode, RolloutWorker\n",
    "from ray.rllib.policy import Policy\n",
    "from ray.rllib.policy.sample_batch import SampleBatch\n",
    "\n",
    "from datetime import datetime"
   ]
  },
  {
   "cell_type": "code",
   "execution_count": 2,
   "metadata": {},
   "outputs": [],
   "source": [
    "model_C = PolicyNetwork\n",
    "model_H = PolicyNetwork\n",
    "ModelCatalog.register_custom_model(\"modelC\", model_C)\n",
    "ModelCatalog.register_custom_model(\"modelH\", model_H)\n",
    "\n",
    "act_space = spaces.Box(low=-0.1,high=0.1, shape=(3,))\n",
    "obs_space = spaces.Box(low=-10000,high=10000, shape=(768,))\n",
    "\n",
    "def gen_policy(atom):\n",
    "    model = \"model{}\".format(atom)\n",
    "    config = {\n",
    "        \"model\": {\n",
    "            \"custom_model\": model,\n",
    "        },\n",
    "    }\n",
    "    return (None, obs_space, act_space, config)\n",
    "\n",
    "\n",
    "\n",
    "policies = {\"policy_C\": gen_policy(\"C\"),\"policy_H\": gen_policy(\"H\")}\n",
    "policy_ids = list(policies.keys())\n",
    "\n",
    "def policy_mapping_fn(agent_id,  **kwargs):\n",
    "    if agent_id.startswith(\"C\"):\n",
    "        pol_id = \"policy_C\"\n",
    "    else:\n",
    "        pol_id = \"policy_H\"\n",
    "    return pol_id\n",
    "\n",
    "def env_creator(env_config):\n",
    "    return ma_env.MA_env(env_config)  # return an env instance\n",
    "\n",
    "register_env(\"MA_env\", env_creator)\n",
    "\n",
    "config = ppo.DEFAULT_CONFIG.copy()\n",
    "\n",
    "config[\"multiagent\"] = {\n",
    "        \"policy_mapping_fn\": policy_mapping_fn,\n",
    "        \"policies\": policies,\n",
    "        \"policies_to_train\": [\"policy_C\", \"policy_H\"],\n",
    "    }\n",
    "\n",
    "config[\"log_level\"] = \"WARN\"\n",
    "config[\"framework\"] = \"torch\"\n",
    "config[\"num_gpus\"] =  int(os.environ.get(\"RLLIB_NUM_GPUS\", \"0\"))\n",
    "config[\"env_config\"] =  {\"atoms\":[\"C\", \"H\", \"H\", \"H\", \"H\"]}\n",
    "config[\"rollout_fragment_length\"] = 16"
   ]
  },
  {
   "cell_type": "code",
   "execution_count": 3,
   "metadata": {},
   "outputs": [
    {
     "name": "stderr",
     "output_type": "stream",
     "text": [
      "2021-08-07 11:28:16,972\tINFO services.py:1251 -- View the Ray dashboard at \u001b[1m\u001b[32mhttp://127.0.0.1:8265\u001b[39m\u001b[22m\n"
     ]
    },
    {
     "data": {
      "text/plain": [
       "{'node_ip_address': '10.1.65.96',\n",
       " 'raylet_ip_address': '10.1.65.96',\n",
       " 'redis_address': '10.1.65.96:6379',\n",
       " 'object_store_address': '/tmp/ray/session_2021-08-07_11-28-15_589282_87977/sockets/plasma_store',\n",
       " 'raylet_socket_name': '/tmp/ray/session_2021-08-07_11-28-15_589282_87977/sockets/raylet',\n",
       " 'webui_url': '127.0.0.1:8265',\n",
       " 'session_dir': '/tmp/ray/session_2021-08-07_11-28-15_589282_87977',\n",
       " 'metrics_export_port': 60218,\n",
       " 'node_id': 'b8541031a80d805f21871048581d68f39c39b45c0c19f0d88663b7ab'}"
      ]
     },
     "execution_count": 3,
     "metadata": {},
     "output_type": "execute_result"
    }
   ],
   "source": [
    "ray.init()"
   ]
  },
  {
   "cell_type": "code",
   "execution_count": 4,
   "metadata": {},
   "outputs": [
    {
     "name": "stderr",
     "output_type": "stream",
     "text": [
      "2021-08-07 11:28:17,898\tINFO trainer.py:724 -- Current log_level is WARN. For more information, set 'log_level': 'INFO' / 'DEBUG' or use the -v and -vv flags.\n",
      "2021-08-07 11:28:19,595\tWARNING util.py:55 -- Install gputil for GPU system monitoring.\n"
     ]
    }
   ],
   "source": [
    "agent = ppo.PPOTrainer(config=config, env=\"MA_env\")"
   ]
  },
  {
   "cell_type": "code",
   "execution_count": 5,
   "metadata": {},
   "outputs": [
    {
     "name": "stderr",
     "output_type": "stream",
     "text": [
      "2021-08-07 11:28:19,625\tINFO trainable.py:382 -- Restored on 10.1.65.96 from checkpoint: /home/rohit/ray_results/PPO_MA_env_2021-08-06_18-03-5337wv3v3j/checkpoint_000021/checkpoint-21\n",
      "2021-08-07 11:28:19,626\tINFO trainable.py:390 -- Current state after restoring: {'_iteration': 21, '_timesteps_total': None, '_time_total': 4056.5177500247955, '_episodes_total': 174}\n"
     ]
    }
   ],
   "source": [
    "# agent.restore(\"/home/rohit/ray_results/PPO_MA_env_2021-08-04_18-33-53ks1kndl_/checkpoint_000001/checkpoint-1\")\n",
    "agent.restore(\"/home/rohit/ray_results/PPO_MA_env_2021-08-06_18-03-5337wv3v3j/checkpoint_000021/checkpoint-21\")\n",
    "# agent.restore(\"/home/rohit/ray_results/PPO_MA_env_2021-08-06_18-37-58n4hzicpd/checkpoint_000001/checkpoint-1\")"
   ]
  },
  {
   "cell_type": "code",
   "execution_count": 6,
   "metadata": {},
   "outputs": [],
   "source": [
    "env = ma_env.MA_env({})"
   ]
  },
  {
   "cell_type": "code",
   "execution_count": 7,
   "metadata": {},
   "outputs": [
    {
     "name": "stdout",
     "output_type": "stream",
     "text": [
      "\n",
      "Reset called\n",
      "forces = [8.41414131 2.30348    5.93234169 4.0053915  3.95104876] energies = -16.14551384608208 bonds = [2.01468482 1.01608474 1.4407647  1.7204536 ]\n"
     ]
    }
   ],
   "source": [
    "obs = env.reset()"
   ]
  },
  {
   "cell_type": "code",
   "execution_count": 8,
   "metadata": {},
   "outputs": [],
   "source": [
    "# agent.compute_action(obs,full_fetch=True)"
   ]
  },
  {
   "cell_type": "code",
   "execution_count": null,
   "metadata": {},
   "outputs": [
    {
     "name": "stdout",
     "output_type": "stream",
     "text": [
      "forces = [7.53434065 2.24855088 2.98785724 4.29128923 4.24102014] energies = -16.90823168873242 bonds = [1.8950999  1.05506031 1.59515906 1.45808906]\n",
      "forces = [6.73078051 2.16694843 2.895206   3.69850399 4.43700998] energies = -15.918754716590055 bonds = [1.90266932 1.06411847 1.76097693 1.49448522]\n",
      "forces = [8.55856781 2.06282904 5.77253785 3.5991395  4.33151851] energies = -15.772174674330508 bonds = [1.78803675 1.00623275 1.84614521 1.45469498]\n"
     ]
    }
   ],
   "source": [
    "action = {}\n",
    "# all_info = []\n",
    "done = False\n",
    "for i in range(100):\n",
    "# while done != True:\n",
    "#     pdb.set_trace()\n",
    "    for agent_id, agent_obs in obs.items():\n",
    "    #     print(agent_id, agent_obs)\n",
    "        policy_id = config['multiagent']['policy_mapping_fn'](agent_id)\n",
    "    #     action[agent_id] = agent.compute_action(agent_obs, policy_id=policy_id)\n",
    "        action[agent_id] = agent.compute_single_action(agent_obs, policy_id=policy_id)\n",
    "    obs, rew, done, info = env.step(action)\n",
    "#     print(info)\n",
    "#     all_info.append(info)"
   ]
  },
  {
   "cell_type": "code",
   "execution_count": null,
   "metadata": {},
   "outputs": [],
   "source": [
    "# action"
   ]
  },
  {
   "cell_type": "code",
   "execution_count": null,
   "metadata": {},
   "outputs": [],
   "source": [
    "# obs = env.step(action)\n",
    "# for idx, val in action.items():            \n",
    "#     res = agent[atom_agent_map.index(idx)].step(val)\n",
    "#     obs[idx], rew[idx], done[idx], info[idx] = res"
   ]
  },
  {
   "cell_type": "code",
   "execution_count": null,
   "metadata": {},
   "outputs": [],
   "source": [
    "obs[2]"
   ]
  },
  {
   "cell_type": "code",
   "execution_count": null,
   "metadata": {},
   "outputs": [],
   "source": []
  }
 ],
 "metadata": {
  "kernelspec": {
   "display_name": "Python 3 (ipykernel)",
   "language": "python",
   "name": "python3"
  },
  "language_info": {
   "codemirror_mode": {
    "name": "ipython",
    "version": 3
   },
   "file_extension": ".py",
   "mimetype": "text/x-python",
   "name": "python",
   "nbconvert_exporter": "python",
   "pygments_lexer": "ipython3",
   "version": "3.9.6"
  }
 },
 "nbformat": 4,
 "nbformat_minor": 4
}
